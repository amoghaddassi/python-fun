{
 "cells": [
  {
   "cell_type": "code",
   "execution_count": 70,
   "metadata": {},
   "outputs": [],
   "source": [
    "from sklearn import tree\n",
    "import numpy as np\n",
    "import pandas as pd\n",
    "from textblob import TextBlob\n",
    "import matplotlib.pyplot as plt"
   ]
  },
  {
   "cell_type": "code",
   "execution_count": 12,
   "metadata": {},
   "outputs": [],
   "source": [
    "def sentiment_analysis(text):\n",
    "    analysis = TextBlob(text)\n",
    "    sentiment, polarity = analysis.sentiment[0], analysis.sentiment[1]\n",
    "    return sentiment, polarity"
   ]
  },
  {
   "cell_type": "code",
   "execution_count": 68,
   "metadata": {},
   "outputs": [],
   "source": [
    "data = pd.read_csv('mbti.csv').values\n",
    "\n",
    "sent_and_pol, labels = np.ones([len(data), 2]), np.array([])\n",
    "\n",
    "for i in np.arange(len(data)):\n",
    "    label = data[i][0]\n",
    "    labels = np.append(labels, label)\n",
    "    \n",
    "    analysis = sentiment_analysis(data[i][1])\n",
    "    sent_and_pol[i] = analysis"
   ]
  },
  {
   "cell_type": "code",
   "execution_count": 78,
   "metadata": {},
   "outputs": [],
   "source": [
    "#Make the model\n",
    "clf = tree.DecisionTreeClassifier()\n",
    "clf = clf.fit(sent_and_pol, labels)"
   ]
  },
  {
   "cell_type": "code",
   "execution_count": 116,
   "metadata": {},
   "outputs": [
    {
     "data": {
      "text/plain": [
       "array(['ISTP'],\n",
       "      dtype='<U32')"
      ]
     },
     "execution_count": 116,
     "metadata": {},
     "output_type": "execute_result"
    }
   ],
   "source": [
    "new_text = \"just got two wins in fortnite with my borther a while ago, our team got 33 kills, thats a third of the entire population!\"\n",
    "new_input = sentiment_analysis(new_text)\n",
    "\n",
    "prediction = clf.predict([new_input])\n",
    "prediction"
   ]
  },
  {
   "cell_type": "code",
   "execution_count": null,
   "metadata": {},
   "outputs": [],
   "source": []
  }
 ],
 "metadata": {
  "kernelspec": {
   "display_name": "Python 3",
   "language": "python",
   "name": "python3"
  },
  "language_info": {
   "codemirror_mode": {
    "name": "ipython",
    "version": 3
   },
   "file_extension": ".py",
   "mimetype": "text/x-python",
   "name": "python",
   "nbconvert_exporter": "python",
   "pygments_lexer": "ipython3",
   "version": "3.6.3"
  }
 },
 "nbformat": 4,
 "nbformat_minor": 2
}
