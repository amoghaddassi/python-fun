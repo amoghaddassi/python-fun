{
 "cells": [
  {
   "cell_type": "code",
   "execution_count": null,
   "metadata": {},
   "outputs": [],
   "source": [
    "from textblob import TextBlob"
   ]
  },
  {
   "cell_type": "code",
   "execution_count": 6,
   "metadata": {},
   "outputs": [],
   "source": [
    "#Set up with twitter.\n",
    "consumer_key = 'meO6TH2fsY1Hoam9ZqfiNy28d'\n",
    "consumer_secret = 'EAbTbMvb87Qmkcz7ZeZazPwXbGN13Hx0ftHs3CLtz3kJuVYeko'\n",
    "\n",
    "access_key = '3948397215-IL8phd0TnV74zKSGKxi2eIaLBEtC2lfFAkoFdtU'\n",
    "access_secret = 'LeamIjKVZbmLVlqOHMfMJkzVucvuK18lZwtPH4kvvPlmA'\n",
    "\n",
    "auth = tweepy.OAuthHandler(consumer_key, consumer_secret)\n",
    "auth.set_access_token(access_key, access_secret)"
   ]
  },
  {
   "cell_type": "code",
   "execution_count": null,
   "metadata": {},
   "outputs": [],
   "source": []
  }
 ],
 "metadata": {
  "kernelspec": {
   "display_name": "Python 3",
   "language": "python",
   "name": "python3"
  },
  "language_info": {
   "codemirror_mode": {
    "name": "ipython",
    "version": 3
   },
   "file_extension": ".py",
   "mimetype": "text/x-python",
   "name": "python",
   "nbconvert_exporter": "python",
   "pygments_lexer": "ipython3",
   "version": "3.6.3"
  }
 },
 "nbformat": 4,
 "nbformat_minor": 2
}
