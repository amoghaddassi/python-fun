{
 "cells": [
  {
   "cell_type": "code",
   "execution_count": 55,
   "metadata": {},
   "outputs": [],
   "source": [
    "from textblob import TextBlob\n",
    "import tweepy\n",
    "import numpy as np\n",
    "import matplotlib.pyplot as plt\n",
    "import pandas as pd\n",
    "import sklearn"
   ]
  },
  {
   "cell_type": "code",
   "execution_count": 30,
   "metadata": {},
   "outputs": [],
   "source": [
    "# Authenticate with twitter.\n",
    "consumer_key = 'meO6TH2fsY1Hoam9ZqfiNy28d'\n",
    "consumer_secret = 'EAbTbMvb87Qmkcz7ZeZazPwXbGN13Hx0ftHs3CLtz3kJuVYeko'\n",
    "\n",
    "access_key = '3948397215-IL8phd0TnV74zKSGKxi2eIaLBEtC2lfFAkoFdtU'\n",
    "access_secret = 'LeamIjKVZbmLVlqOHMfMJkzVucvuK18lZwtPH4kvvPlmA'\n",
    "\n",
    "auth = tweepy.OAuthHandler(consumer_key, consumer_secret)\n",
    "auth.set_access_token(access_key, access_secret)\n",
    "\n",
    "api = tweepy.API(auth)"
   ]
  },
  {
   "cell_type": "code",
   "execution_count": 61,
   "metadata": {},
   "outputs": [],
   "source": [
    "def test_polarity(text):\n",
    "    analysis = TextBlob(text)\n",
    "    polarity = analysis.sentiment[1]\n",
    "    return polarity"
   ]
  },
  {
   "cell_type": "code",
   "execution_count": 66,
   "metadata": {},
   "outputs": [],
   "source": [
    "#Collect tweets for analysis\n",
    "tweets = api.search('a', count = 1000)\n",
    "\n",
    "retweets = np.array([])\n",
    "polarities = np.array([])\n",
    "\n",
    "for tweet in tweets:\n",
    "    retweet_count = tweet.retweet_count\n",
    "    retweets = np.append(retweets, retweet_count)\n",
    "    \n",
    "    polarity = test_polarity(tweet.text)\n",
    "    polarities = np.append(polarities, polarity)"
   ]
  },
  {
   "cell_type": "code",
   "execution_count": 67,
   "metadata": {},
   "outputs": [
    {
     "data": {
      "text/plain": [
       "<matplotlib.collections.PathCollection at 0x10b36d7b8>"
      ]
     },
     "execution_count": 67,
     "metadata": {},
     "output_type": "execute_result"
    },
    {
     "data": {
      "image/png": "[encoded data removed]",
      "text/plain": [
       "<matplotlib.figure.Figure at 0x10e190908>"
      ]
     },
     "metadata": {},
     "output_type": "display_data"
    }
   ],
   "source": [
    "plt.scatter(retweets, polarities)"
   ]
  },
  {
   "cell_type": "code",
   "execution_count": null,
   "metadata": {},
   "outputs": [],
   "source": []
  }
 ],
 "metadata": {
  "kernelspec": {
   "display_name": "Python 3",
   "language": "python",
   "name": "python3"
  },
  "language_info": {
   "codemirror_mode": {
    "name": "ipython",
    "version": 3
   },
   "file_extension": ".py",
   "mimetype": "text/x-python",
   "name": "python",
   "nbconvert_exporter": "python",
   "pygments_lexer": "ipython3",
   "version": "3.6.3"
  }
 },
 "nbformat": 4,
 "nbformat_minor": 2
}
