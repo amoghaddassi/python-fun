{
 "cells": [
  {
   "cell_type": "code",
   "execution_count": 1,
   "metadata": {},
   "outputs": [],
   "source": [
    "import tensorflow as tf\n",
    "import mnist\n",
    "import matplotlib.pyplot as plt\n",
    "%matplotlib inline\n",
    "import numpy as np\n",
    "from sklearn.metrics import confusion_matrix\n",
    "from sklearn.preprocessing import OneHotEncoder"
   ]
  },
  {
   "cell_type": "code",
   "execution_count": 2,
   "metadata": {},
   "outputs": [],
   "source": [
    "#get/encode data and define useful variables\n",
    "mnist = tf.keras.datasets.mnist\n",
    "(x_train, y_train), (x_test, y_test) = mnist.load_data()\n",
    "\n",
    "enc = OneHotEncoder()\n",
    "y_train_enc, y_test_enc = enc.fit_transform(y_train.reshape(-1, 1)), enc.transform(y_test.reshape(-1, 1))\n",
    "\n",
    "img_size = 28\n",
    "img_size_flat = img_size * img_size\n",
    "img_dim = (img_size, img_size)\n",
    "num_classes = 10"
   ]
  },
  {
   "cell_type": "markdown",
   "metadata": {},
   "source": [
    "## Creating the model graph."
   ]
  },
  {
   "cell_type": "code",
   "execution_count": 8,
   "metadata": {},
   "outputs": [],
   "source": [
    "#Define placeholders\n",
    "X = tf.placeholder(tf.float32, [None, img_size_flat]) #None for batch size, img_size_flat for the vector of pixels.\n",
    "Y_true = tf.placeholder(tf.float32, [None, num_classes]) #None for batch size, num_classes for one hot encoded labels.\n",
    "Y_true_cls = tf.placeholder(tf.int64, [None])\n",
    "\n",
    "#Define variables.\n",
    "weights = tf.Variable(tf.zeros([img_size_flat, num_classes])) #Want a 784*10 matrix representing all weights in the model.\n",
    "bias = tf.Variable(tf.zeros([num_classes])) #One bias term for each class."
   ]
  },
  {
   "cell_type": "code",
   "execution_count": 9,
   "metadata": {},
   "outputs": [],
   "source": [
    "#Create the model\n",
    "\"\"\"X*W = batch_size * # classes matrix, \n",
    "where the ijth entry is the chance that the ith image in the batch is in class j.\"\"\"\n",
    "logits = tf.matmul(X, weights) + bias \n",
    "Y_pred = tf.nn.softmax(logits) #normalizes the results from the logits matrix\n",
    "Y_pred_cls = tf.argmax(Y_pred)"
   ]
  },
  {
   "cell_type": "code",
   "execution_count": 10,
   "metadata": {},
   "outputs": [],
   "source": [
    "#Cost function\n",
    "cross_entropy = tf.nn.softmax_cross_entropy_with_logits_v2(logits=logits, labels=Y_true)\n",
    "cost = tf.reduce_mean(cross_entropy) #Reduces cross-entropy to scalar so we can take gradients.\n",
    "\n",
    "#Optimizer\n",
    "optimizer = tf.train.GradientDescentOptimizer(learning_rate=.005).minimize(cost)"
   ]
  },
  {
   "cell_type": "code",
   "execution_count": 11,
   "metadata": {},
   "outputs": [],
   "source": [
    "#Performance measures\n",
    "correct = tf.equal(Y_pred_cls, Y_true_cls) #vector of bools\n",
    "accuracy = tf.reduce_mean(tf.cast(correct, tf.float32)) #makes the bools floats, and then takes mean for overall accuracy."
   ]
  },
  {
   "cell_type": "markdown",
   "metadata": {},
   "source": [
    "## Training the model in a TF session."
   ]
  },
  {
   "cell_type": "code",
   "execution_count": 13,
   "metadata": {},
   "outputs": [],
   "source": [
    "#Create and initialize the session\n",
    "sess = tf.Session()\n",
    "sess.run(tf.global_variables_initializer())"
   ]
  },
  {
   "cell_type": "code",
   "execution_count": null,
   "metadata": {},
   "outputs": [],
   "source": [
    "num_batches = "
   ]
  }
 ],
 "metadata": {
  "kernelspec": {
   "display_name": "Python 3",
   "language": "python",
   "name": "python3"
  },
  "language_info": {
   "codemirror_mode": {
    "name": "ipython",
    "version": 3
   },
   "file_extension": ".py",
   "mimetype": "text/x-python",
   "name": "python",
   "nbconvert_exporter": "python",
   "pygments_lexer": "ipython3",
   "version": "3.6.3"
  }
 },
 "nbformat": 4,
 "nbformat_minor": 2
}
